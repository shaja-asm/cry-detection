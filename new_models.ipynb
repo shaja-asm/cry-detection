{
 "cells": [
  {
   "cell_type": "code",
   "execution_count": null,
   "metadata": {},
   "outputs": [],
   "source": [
    "import os\n",
    "import numpy as np\n",
    "import librosa\n",
    "import matplotlib.pyplot as plt\n",
    "import tensorflow as tf\n",
    "from sklearn.model_selection import train_test_split\n",
    "from sklearn.linear_model import LogisticRegression\n",
    "from sklearn.ensemble import RandomForestClassifier\n",
    "from sklearn.naive_bayes import GaussianNB\n",
    "from sklearn.metrics import accuracy_score, f1_score\n"
   ]
  },
  {
   "cell_type": "code",
   "execution_count": null,
   "metadata": {},
   "outputs": [],
   "source": [
    "AUDIO_PATH = 'CryCorpusFinal'\n",
    "CRY_FOLDER = os.path.join(AUDIO_PATH, 'cry/augmented')\n",
    "NOTCRY_FOLDER = os.path.join(AUDIO_PATH, 'notcry')\n",
    "IMG_SIZE = (128, 128)  # Not used for these models but may be relevant for spectrogram size\n"
   ]
  },
  {
   "cell_type": "code",
   "execution_count": null,
   "metadata": {},
   "outputs": [],
   "source": [
    "def load_audio_files(folder):\n",
    "    files = []\n",
    "    for filename in os.listdir(folder):\n",
    "        if filename.endswith('.wav'):\n",
    "            files.append(os.path.join(folder, filename))\n",
    "    return files\n",
    "\n",
    "def compute_spectrogram(y, sr, n_fft=2048, hop_length=512):\n",
    "    D = librosa.stft(y, n_fft=n_fft, hop_length=hop_length)\n",
    "    D_dB = librosa.amplitude_to_db(np.abs(D), ref=np.max)\n",
    "    return D_dB\n",
    "\n",
    "def save_spectrogram_to_disk(D_dB, save_path):\n",
    "    if not os.path.exists(os.path.dirname(save_path)):\n",
    "        os.makedirs(os.path.dirname(save_path))\n",
    "    np.save(save_path, D_dB)\n",
    "\n",
    "cry_files = load_audio_files(CRY_FOLDER)\n",
    "notcry_files = load_audio_files(NOTCRY_FOLDER)\n",
    "\n",
    "data = []\n",
    "labels = []\n",
    "\n",
    "for idx, file_path in enumerate(cry_files):\n",
    "    y, sr = librosa.load(file_path, sr=None)\n",
    "    spectrogram = compute_spectrogram(y, sr)\n",
    "    save_path = f'spectrograms/cry_{idx}.npy'\n",
    "    save_spectrogram_to_disk(spectrogram, save_path)\n",
    "    data.append(save_path)\n",
    "    labels.append(1)\n",
    "\n",
    "for idx, file_path in enumerate(notcry_files):\n",
    "    y, sr = librosa.load(file_path, sr=None)\n",
    "    spectrogram = compute_spectrogram(y, sr)\n",
    "    save_path = f'spectrograms/notcry_{idx}.npy'\n",
    "    save_spectrogram_to_disk(spectrogram, save_path)\n",
    "    data.append(save_path)\n",
    "    labels.append(0)\n"
   ]
  },
  {
   "cell_type": "code",
   "execution_count": null,
   "metadata": {},
   "outputs": [],
   "source": [
    "def load_spectrogram_data(file_paths):\n",
    "    data = []\n",
    "    for file_path in file_paths:\n",
    "        spectrogram = np.load(file_path)\n",
    "        data.append(spectrogram.flatten())\n",
    "    return np.array(data)\n",
    "\n",
    "# Load the data\n",
    "X_data = load_spectrogram_data(data)\n",
    "y_data = np.array(labels)\n"
   ]
  },
  {
   "cell_type": "code",
   "execution_count": null,
   "metadata": {},
   "outputs": [],
   "source": [
    "X_train, X_val, y_train, y_val = train_test_split(X_data, y_data, test_size=0.2, random_state=42)\n"
   ]
  },
  {
   "cell_type": "code",
   "execution_count": null,
   "metadata": {},
   "outputs": [],
   "source": [
    "# Logistic Regression\n",
    "log_reg_model = LogisticRegression(max_iter=1000)\n",
    "log_reg_model.fit(X_train, y_train)\n",
    "y_pred_log_reg = log_reg_model.predict(X_val)\n",
    "acc_log_reg = accuracy_score(y_val, y_pred_log_reg)\n",
    "f1_log_reg = f1_score(y_val, y_pred_log_reg)\n",
    "print(f'Logistic Regression - Accuracy: {acc_log_reg}, F1 Score: {f1_log_reg}')\n",
    "\n",
    "# Random Forest\n",
    "rf_model = RandomForestClassifier(n_estimators=100)\n",
    "rf_model.fit(X_train, y_train)\n",
    "y_pred_rf = rf_model.predict(X_val)\n",
    "acc_rf = accuracy_score(y_val, y_pred_rf)\n",
    "f1_rf = f1_score(y_val, y_pred_rf)\n",
    "print(f'Random Forest - Accuracy: {acc_rf}, F1 Score: {f1_rf}')\n",
    "\n",
    "# Naive Bayes\n",
    "nb_model = GaussianNB()\n",
    "nb_model.fit(X_train, y_train)\n",
    "y_pred_nb = nb_model.predict(X_val)\n",
    "acc_nb = accuracy_score(y_val, y_pred_nb)\n",
    "f1_nb = f1_score(y_val, y_pred_nb)\n",
    "print(f'Naive Bayes - Accuracy: {acc_nb}, F1 Score: {f1_nb}')\n"
   ]
  },
  {
   "cell_type": "code",
   "execution_count": null,
   "metadata": {},
   "outputs": [],
   "source": [
    "import joblib\n",
    "\n",
    "# Save Logistic Regression Model\n",
    "joblib.dump(log_reg_model, 'logistic_regression_model.pkl')\n",
    "\n",
    "# Save Random Forest Model\n",
    "joblib.dump(rf_model, 'random_forest_model.pkl')\n",
    "\n",
    "# Save Naive Bayes Model\n",
    "joblib.dump(nb_model, 'naive_bayes_model.pkl')\n"
   ]
  }
 ],
 "metadata": {
  "kernelspec": {
   "display_name": ".venv",
   "language": "python",
   "name": "python3"
  },
  "language_info": {
   "codemirror_mode": {
    "name": "ipython",
    "version": 3
   },
   "file_extension": ".py",
   "mimetype": "text/x-python",
   "name": "python",
   "nbconvert_exporter": "python",
   "pygments_lexer": "ipython3",
   "version": "3.10.12"
  }
 },
 "nbformat": 4,
 "nbformat_minor": 2
}
