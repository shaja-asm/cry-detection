{
  "cells": [
    {
      "cell_type": "markdown",
      "metadata": {
        "colab_type": "text",
        "id": "view-in-github"
      },
      "source": [
        "<a href=\"https://colab.research.google.com/github/shaja-asm/cry-detection/blob/main/tf_lite_model.ipynb\" target=\"_parent\"><img src=\"https://colab.research.google.com/assets/colab-badge.svg\" alt=\"Open In Colab\"/></a>"
      ]
    },
    {
      "cell_type": "code",
      "execution_count": 1,
      "metadata": {
        "colab": {
          "base_uri": "https://localhost:8080/"
        },
        "id": "Kgb5S3nbJXKL",
        "outputId": "1e24a85a-0213-4fd2-ade3-6602758d1ff7"
      },
      "outputs": [],
      "source": [
        "import os\n",
        "import numpy as np\n",
        "import librosa\n",
        "import librosa.display\n",
        "# import matplotlib.pyplot as plt\n",
        "import tensorflow as tf\n",
        "from tensorflow.keras.preprocessing.image import ImageDataGenerator\n",
        "from tensorflow.keras.models import Sequential\n",
        "from tensorflow.keras.layers import Conv2D, MaxPooling2D, Flatten, Dense, Dropout, BatchNormalization, LSTM\n",
        "from sklearn.model_selection import train_test_split\n",
        "from sklearn.metrics import accuracy_score, f1_score\n",
        "from sklearn.utils.class_weight import compute_class_weight\n",
        "from tensorflow.keras.utils import Sequence\n",
        "import datetime\n",
        "from tensorflow.keras.callbacks import ModelCheckpoint, ReduceLROnPlateau, TensorBoard, EarlyStopping\n",
        "from tensorflow.keras.optimizers import Adam\n",
        "from scipy.ndimage import zoom\n",
        "import ctypes\n",
        "from kerastuner.tuners import RandomSearch\n",
        "\n",
        "# gpus = tf.config.experimental.list_physical_devices('GPU')\n",
        "# if gpus:\n",
        "#     try:\n",
        "#         for gpu in gpus:\n",
        "#             tf.config.experimental.set_memory_growth(gpu, True)\n",
        "#     except RuntimeError as e:\n",
        "#         print(e)\n",
        "# print(\"Num GPUs Available: \", len(tf.config.experimental.list_physical_devices('GPU')))"
      ]
    },
    {
      "cell_type": "code",
      "execution_count": 2,
      "metadata": {
        "id": "YClY_ATkJXKP"
      },
      "outputs": [],
      "source": [
        "AUDIO_PATH = 'CryCorpusFinal'\n",
        "CRY_FOLDER = os.path.join(AUDIO_PATH, 'cry/augmented')\n",
        "NOTCRY_FOLDER = os.path.join(AUDIO_PATH, 'notcry')\n",
        "IMG_SIZE = (128, 128)\n",
        "BATCH_SIZE = 32\n",
        "EPOCHS = 25\n",
        "MODEL = 'cnn' # Choice: 'cnn' or 'lstm'"
      ]
    },
    {
      "cell_type": "code",
      "execution_count": 3,
      "metadata": {
        "id": "H5QaLHaEJXKQ"
      },
      "outputs": [],
      "source": [
        "def load_audio_files(folder):\n",
        "    files = []\n",
        "    for filename in os.listdir(folder):\n",
        "        if filename.endswith('.wav'):\n",
        "            files.append(os.path.join(folder, filename))\n",
        "    return files\n",
        "\n",
        "def compute_spectrogram(y, sr, n_fft=2048, hop_length=512):\n",
        "    D = librosa.stft(y, n_fft=n_fft, hop_length=hop_length)\n",
        "    D_dB = librosa.amplitude_to_db(np.abs(D), ref=np.max)\n",
        "    return D_dB\n",
        "\n",
        "def save_spectrogram_to_disk(D_dB, save_path):\n",
        "    if not os.path.exists(os.path.dirname(save_path)):\n",
        "        os.makedirs(os.path.dirname(save_path))\n",
        "    np.save(save_path, D_dB)\n"
      ]
    },
    {
      "cell_type": "code",
      "execution_count": 4,
      "metadata": {
        "id": "upjbPHe6JXKR"
      },
      "outputs": [],
      "source": [
        "cry_files = load_audio_files(CRY_FOLDER)\n",
        "notcry_files = load_audio_files(NOTCRY_FOLDER)\n",
        "\n",
        "data = []\n",
        "labels = []\n",
        "\n",
        "for idx, file in enumerate(cry_files):\n",
        "    y, sr = librosa.load(file, sr=22050)\n",
        "    y = librosa.util.normalize(y)\n",
        "    D_dB = compute_spectrogram(y, sr)\n",
        "    save_path = os.path.join('{0}/spectrograms'.format(AUDIO_PATH), f'cry_{idx}.npy'.format(AUDIO_PATH))\n",
        "    save_spectrogram_to_disk(D_dB, save_path)\n",
        "    data.append(save_path)\n",
        "    labels.append(1)\n",
        "\n",
        "for idx, file in enumerate(notcry_files):\n",
        "    y, sr = librosa.load(file, sr=22050)\n",
        "    y = librosa.util.normalize(y)\n",
        "    D_dB = compute_spectrogram(y, sr)\n",
        "    save_path = os.path.join('{0}/spectrograms'.format(AUDIO_PATH), f'notcry_{idx}.npy'.format(AUDIO_PATH))\n",
        "    save_spectrogram_to_disk(D_dB, save_path)\n",
        "    data.append(save_path)\n",
        "    labels.append(0)\n",
        "\n",
        "data = np.array(data)\n",
        "labels = np.array(labels)\n",
        "\n"
      ]
    },
    {
      "cell_type": "code",
      "execution_count": 5,
      "metadata": {
        "colab": {
          "base_uri": "https://localhost:8080/"
        },
        "id": "kuPLsd8VJXKU",
        "outputId": "8e77312c-5488-4a5c-d1f1-a121040d0fc9"
      },
      "outputs": [
        {
          "name": "stdout",
          "output_type": "stream",
          "text": [
            "Trial 10 Complete [00h 07m 33s]\n",
            "val_accuracy: 0.8770833611488342\n",
            "\n",
            "Best val_accuracy So Far: 0.9416666626930237\n",
            "Total elapsed time: 01h 08m 15s\n"
          ]
        },
        {
          "name": "stderr",
          "output_type": "stream",
          "text": [
            "2024-10-22 14:16:43.943185: I tensorflow/tsl/profiler/lib/profiler_session.cc:104] Profiler session initializing.\n",
            "2024-10-22 14:16:43.943712: I tensorflow/tsl/profiler/lib/profiler_session.cc:119] Profiler session started.\n",
            "2024-10-22 14:16:44.064202: I tensorflow/tsl/profiler/lib/profiler_session.cc:131] Profiler session tear down.\n"
          ]
        },
        {
          "name": "stdout",
          "output_type": "stream",
          "text": [
            "Epoch 1/50\n",
            "62/62 [==============================] - ETA: 0s - loss: 0.4897 - accuracy: 0.8271INFO:tensorflow:Assets written to: cnn_best_model/assets\n"
          ]
        },
        {
          "name": "stderr",
          "output_type": "stream",
          "text": [
            "INFO:tensorflow:Assets written to: cnn_best_model/assets\n"
          ]
        },
        {
          "name": "stdout",
          "output_type": "stream",
          "text": [
            "62/62 [==============================] - 47s 743ms/step - loss: 0.4897 - accuracy: 0.8271 - val_loss: 1.2836 - val_accuracy: 0.5625 - lr: 5.6261e-04\n",
            "Epoch 2/50\n",
            "62/62 [==============================] - ETA: 0s - loss: 0.2732 - accuracy: 0.8997INFO:tensorflow:Assets written to: cnn_best_model/assets\n"
          ]
        },
        {
          "name": "stderr",
          "output_type": "stream",
          "text": [
            "INFO:tensorflow:Assets written to: cnn_best_model/assets\n"
          ]
        },
        {
          "name": "stdout",
          "output_type": "stream",
          "text": [
            "62/62 [==============================] - 46s 737ms/step - loss: 0.2732 - accuracy: 0.8997 - val_loss: 1.1938 - val_accuracy: 0.5771 - lr: 5.6261e-04\n",
            "Epoch 3/50\n",
            "62/62 [==============================] - ETA: 0s - loss: 0.2508 - accuracy: 0.9093INFO:tensorflow:Assets written to: cnn_best_model/assets\n"
          ]
        },
        {
          "name": "stderr",
          "output_type": "stream",
          "text": [
            "INFO:tensorflow:Assets written to: cnn_best_model/assets\n"
          ]
        },
        {
          "name": "stdout",
          "output_type": "stream",
          "text": [
            "62/62 [==============================] - 46s 738ms/step - loss: 0.2508 - accuracy: 0.9093 - val_loss: 0.2828 - val_accuracy: 0.9021 - lr: 5.6261e-04\n",
            "Epoch 4/50\n",
            "62/62 [==============================] - 42s 682ms/step - loss: 0.2362 - accuracy: 0.9138 - val_loss: 1.8225 - val_accuracy: 0.6729 - lr: 5.6261e-04\n",
            "Epoch 5/50\n",
            "62/62 [==============================] - 43s 697ms/step - loss: 0.2178 - accuracy: 0.9234 - val_loss: 0.3091 - val_accuracy: 0.9062 - lr: 5.6261e-04\n",
            "Epoch 6/50\n",
            "62/62 [==============================] - ETA: 0s - loss: 0.2081 - accuracy: 0.9239INFO:tensorflow:Assets written to: cnn_best_model/assets\n"
          ]
        },
        {
          "name": "stderr",
          "output_type": "stream",
          "text": [
            "INFO:tensorflow:Assets written to: cnn_best_model/assets\n"
          ]
        },
        {
          "name": "stdout",
          "output_type": "stream",
          "text": [
            "62/62 [==============================] - 45s 725ms/step - loss: 0.2081 - accuracy: 0.9239 - val_loss: 0.2266 - val_accuracy: 0.9187 - lr: 5.6261e-04\n",
            "Epoch 7/50\n",
            "62/62 [==============================] - 50s 817ms/step - loss: 0.1842 - accuracy: 0.9375 - val_loss: 1.5525 - val_accuracy: 0.7396 - lr: 5.6261e-04\n",
            "Epoch 8/50\n",
            "62/62 [==============================] - 44s 709ms/step - loss: 0.1741 - accuracy: 0.9395 - val_loss: 3.4072 - val_accuracy: 0.5938 - lr: 5.6261e-04\n",
            "Epoch 9/50\n",
            " 3/62 [>.............................] - ETA: 40s - loss: 0.1598 - accuracy: 0.9583"
          ]
        },
        {
          "name": "stderr",
          "output_type": "stream",
          "text": [
            "2024-10-22 14:22:50.779832: I tensorflow/tsl/profiler/lib/profiler_session.cc:104] Profiler session initializing.\n",
            "2024-10-22 14:22:50.780012: I tensorflow/tsl/profiler/lib/profiler_session.cc:119] Profiler session started.\n"
          ]
        },
        {
          "name": "stdout",
          "output_type": "stream",
          "text": [
            "24/62 [==========>...................] - ETA: 25s - loss: 0.1539 - accuracy: 0.9531"
          ]
        },
        {
          "name": "stderr",
          "output_type": "stream",
          "text": [
            "2024-10-22 14:23:04.787538: I tensorflow/tsl/profiler/lib/profiler_session.cc:70] Profiler session collecting data.\n",
            "2024-10-22 14:23:04.809324: I tensorflow/tsl/profiler/lib/profiler_session.cc:131] Profiler session tear down.\n",
            "2024-10-22 14:23:04.820398: I tensorflow/tsl/profiler/rpc/client/save_profile.cc:144] Collecting XSpace to repository: logs/fit/cnn_best_20241022-141643/plugins/profile/2024_10_22_14_23_04/TEC-LAP-47.xplane.pb\n"
          ]
        },
        {
          "name": "stdout",
          "output_type": "stream",
          "text": [
            "62/62 [==============================] - 47s 751ms/step - loss: 0.1617 - accuracy: 0.9430 - val_loss: 0.2987 - val_accuracy: 0.9312 - lr: 5.6261e-04\n",
            "Epoch 10/50\n",
            "62/62 [==============================] - ETA: 0s - loss: 0.1853 - accuracy: 0.9360INFO:tensorflow:Assets written to: cnn_best_model/assets\n"
          ]
        },
        {
          "name": "stderr",
          "output_type": "stream",
          "text": [
            "INFO:tensorflow:Assets written to: cnn_best_model/assets\n"
          ]
        },
        {
          "name": "stdout",
          "output_type": "stream",
          "text": [
            "62/62 [==============================] - 46s 748ms/step - loss: 0.1853 - accuracy: 0.9360 - val_loss: 0.1905 - val_accuracy: 0.9396 - lr: 5.6261e-04\n",
            "Epoch 11/50\n",
            "62/62 [==============================] - 44s 712ms/step - loss: 0.1723 - accuracy: 0.9410 - val_loss: 0.2102 - val_accuracy: 0.9417 - lr: 5.6261e-04\n",
            "Epoch 12/50\n",
            "62/62 [==============================] - 44s 713ms/step - loss: 0.1670 - accuracy: 0.9441 - val_loss: 1.2673 - val_accuracy: 0.6562 - lr: 5.6261e-04\n",
            "Epoch 13/50\n",
            "62/62 [==============================] - 47s 764ms/step - loss: 0.1660 - accuracy: 0.9395 - val_loss: 1.6646 - val_accuracy: 0.6854 - lr: 5.6261e-04\n",
            "Epoch 14/50\n",
            "62/62 [==============================] - 43s 698ms/step - loss: 0.1353 - accuracy: 0.9481 - val_loss: 0.5398 - val_accuracy: 0.7104 - lr: 5.6261e-04\n",
            "Epoch 15/50\n",
            "62/62 [==============================] - ETA: 0s - loss: 0.1558 - accuracy: 0.9526INFO:tensorflow:Assets written to: cnn_best_model/assets\n"
          ]
        },
        {
          "name": "stderr",
          "output_type": "stream",
          "text": [
            "INFO:tensorflow:Assets written to: cnn_best_model/assets\n"
          ]
        },
        {
          "name": "stdout",
          "output_type": "stream",
          "text": [
            "62/62 [==============================] - 45s 719ms/step - loss: 0.1558 - accuracy: 0.9526 - val_loss: 0.1782 - val_accuracy: 0.9417 - lr: 5.6261e-04\n",
            "Epoch 16/50\n",
            "62/62 [==============================] - ETA: 0s - loss: 0.1406 - accuracy: 0.9526INFO:tensorflow:Assets written to: cnn_best_model/assets\n"
          ]
        },
        {
          "name": "stderr",
          "output_type": "stream",
          "text": [
            "INFO:tensorflow:Assets written to: cnn_best_model/assets\n"
          ]
        },
        {
          "name": "stdout",
          "output_type": "stream",
          "text": [
            "62/62 [==============================] - 46s 744ms/step - loss: 0.1406 - accuracy: 0.9526 - val_loss: 0.1586 - val_accuracy: 0.9542 - lr: 5.6261e-04\n",
            "Epoch 17/50\n",
            "62/62 [==============================] - 44s 710ms/step - loss: 0.1458 - accuracy: 0.9481 - val_loss: 0.7047 - val_accuracy: 0.8729 - lr: 5.6261e-04\n",
            "Epoch 18/50\n",
            "62/62 [==============================] - 43s 696ms/step - loss: 0.1554 - accuracy: 0.9491 - val_loss: 3.3690 - val_accuracy: 0.5667 - lr: 5.6261e-04\n",
            "Epoch 19/50\n",
            "62/62 [==============================] - 43s 693ms/step - loss: 0.1519 - accuracy: 0.9466 - val_loss: 0.3779 - val_accuracy: 0.8958 - lr: 5.6261e-04\n",
            "Epoch 20/50\n",
            "62/62 [==============================] - 44s 707ms/step - loss: 0.1384 - accuracy: 0.9531 - val_loss: 2.5141 - val_accuracy: 0.6771 - lr: 5.6261e-04\n",
            "Epoch 21/50\n",
            "62/62 [==============================] - 43s 692ms/step - loss: 0.1285 - accuracy: 0.9536 - val_loss: 1.1211 - val_accuracy: 0.7250 - lr: 5.6261e-04\n",
            "Epoch 22/50\n",
            "62/62 [==============================] - 42s 678ms/step - loss: 0.1176 - accuracy: 0.9637 - val_loss: 0.1901 - val_accuracy: 0.9458 - lr: 2.8131e-04\n",
            "Epoch 23/50\n",
            "62/62 [==============================] - 43s 688ms/step - loss: 0.1051 - accuracy: 0.9637 - val_loss: 0.2884 - val_accuracy: 0.9375 - lr: 2.8131e-04\n",
            "Epoch 24/50\n",
            "62/62 [==============================] - 43s 698ms/step - loss: 0.1162 - accuracy: 0.9637 - val_loss: 0.1841 - val_accuracy: 0.9500 - lr: 2.8131e-04\n",
            "Epoch 25/50\n",
            "62/62 [==============================] - 53s 853ms/step - loss: 0.0979 - accuracy: 0.9758 - val_loss: 0.3287 - val_accuracy: 0.8979 - lr: 2.8131e-04\n",
            "Epoch 26/50\n",
            "62/62 [==============================] - 48s 780ms/step - loss: 0.1035 - accuracy: 0.9662 - val_loss: 0.1591 - val_accuracy: 0.9521 - lr: 2.8131e-04\n",
            "Epoch 27/50\n",
            "62/62 [==============================] - ETA: 0s - loss: 0.0786 - accuracy: 0.9783INFO:tensorflow:Assets written to: cnn_best_model/assets\n"
          ]
        },
        {
          "name": "stderr",
          "output_type": "stream",
          "text": [
            "INFO:tensorflow:Assets written to: cnn_best_model/assets\n"
          ]
        },
        {
          "name": "stdout",
          "output_type": "stream",
          "text": [
            "62/62 [==============================] - 48s 771ms/step - loss: 0.0786 - accuracy: 0.9783 - val_loss: 0.1543 - val_accuracy: 0.9542 - lr: 1.4065e-04\n",
            "Epoch 28/50\n",
            "62/62 [==============================] - ETA: 0s - loss: 0.0863 - accuracy: 0.9733INFO:tensorflow:Assets written to: cnn_best_model/assets\n"
          ]
        },
        {
          "name": "stderr",
          "output_type": "stream",
          "text": [
            "INFO:tensorflow:Assets written to: cnn_best_model/assets\n"
          ]
        },
        {
          "name": "stdout",
          "output_type": "stream",
          "text": [
            "62/62 [==============================] - 49s 790ms/step - loss: 0.0863 - accuracy: 0.9733 - val_loss: 0.1504 - val_accuracy: 0.9646 - lr: 1.4065e-04\n",
            "Epoch 29/50\n",
            "62/62 [==============================] - 48s 769ms/step - loss: 0.0788 - accuracy: 0.9768 - val_loss: 0.1966 - val_accuracy: 0.9479 - lr: 1.4065e-04\n",
            "Epoch 30/50\n",
            "62/62 [==============================] - ETA: 0s - loss: 0.0907 - accuracy: 0.9698INFO:tensorflow:Assets written to: cnn_best_model/assets\n"
          ]
        },
        {
          "name": "stderr",
          "output_type": "stream",
          "text": [
            "INFO:tensorflow:Assets written to: cnn_best_model/assets\n"
          ]
        },
        {
          "name": "stdout",
          "output_type": "stream",
          "text": [
            "62/62 [==============================] - 51s 815ms/step - loss: 0.0907 - accuracy: 0.9698 - val_loss: 0.1501 - val_accuracy: 0.9646 - lr: 1.4065e-04\n",
            "Epoch 31/50\n",
            "62/62 [==============================] - ETA: 0s - loss: 0.0781 - accuracy: 0.9748INFO:tensorflow:Assets written to: cnn_best_model/assets\n"
          ]
        },
        {
          "name": "stderr",
          "output_type": "stream",
          "text": [
            "INFO:tensorflow:Assets written to: cnn_best_model/assets\n"
          ]
        },
        {
          "name": "stdout",
          "output_type": "stream",
          "text": [
            "62/62 [==============================] - 48s 772ms/step - loss: 0.0781 - accuracy: 0.9748 - val_loss: 0.1371 - val_accuracy: 0.9688 - lr: 1.4065e-04\n",
            "Epoch 32/50\n",
            "62/62 [==============================] - 46s 737ms/step - loss: 0.0796 - accuracy: 0.9753 - val_loss: 0.2038 - val_accuracy: 0.9417 - lr: 1.4065e-04\n",
            "Epoch 33/50\n",
            "62/62 [==============================] - 47s 752ms/step - loss: 0.0701 - accuracy: 0.9788 - val_loss: 0.1472 - val_accuracy: 0.9625 - lr: 1.4065e-04\n",
            "Epoch 34/50\n",
            "62/62 [==============================] - 52s 839ms/step - loss: 0.0757 - accuracy: 0.9803 - val_loss: 0.3490 - val_accuracy: 0.8917 - lr: 1.4065e-04\n",
            "Epoch 35/50\n",
            "62/62 [==============================] - 50s 811ms/step - loss: 0.0741 - accuracy: 0.9758 - val_loss: 0.2066 - val_accuracy: 0.9396 - lr: 1.4065e-04\n",
            "Epoch 36/50\n",
            "62/62 [==============================] - 48s 779ms/step - loss: 0.0642 - accuracy: 0.9839 - val_loss: 0.1529 - val_accuracy: 0.9625 - lr: 1.4065e-04\n",
            "Epoch 37/50\n",
            "62/62 [==============================] - 64s 1s/step - loss: 0.0620 - accuracy: 0.9834 - val_loss: 0.1526 - val_accuracy: 0.9625 - lr: 7.0326e-05\n",
            "Epoch 38/50\n",
            "62/62 [==============================] - 57s 905ms/step - loss: 0.0630 - accuracy: 0.9793 - val_loss: 0.1623 - val_accuracy: 0.9625 - lr: 7.0326e-05\n",
            "Epoch 39/50\n",
            "62/62 [==============================] - 52s 830ms/step - loss: 0.0624 - accuracy: 0.9839 - val_loss: 0.1948 - val_accuracy: 0.9563 - lr: 7.0326e-05\n",
            "Epoch 40/50\n",
            "62/62 [==============================] - 51s 823ms/step - loss: 0.0655 - accuracy: 0.9788 - val_loss: 0.1564 - val_accuracy: 0.9667 - lr: 7.0326e-05\n",
            "Epoch 41/50\n",
            "62/62 [==============================] - 48s 782ms/step - loss: 0.0614 - accuracy: 0.9819 - val_loss: 0.1590 - val_accuracy: 0.9583 - lr: 7.0326e-05\n",
            "Epoch 42/50\n",
            "62/62 [==============================] - 53s 854ms/step - loss: 0.0574 - accuracy: 0.9819 - val_loss: 0.1537 - val_accuracy: 0.9604 - lr: 3.5163e-05\n",
            "Epoch 43/50\n",
            "62/62 [==============================] - 48s 777ms/step - loss: 0.0526 - accuracy: 0.9859 - val_loss: 0.1815 - val_accuracy: 0.9604 - lr: 3.5163e-05\n",
            "Epoch 44/50\n",
            "62/62 [==============================] - 57s 923ms/step - loss: 0.0609 - accuracy: 0.9803 - val_loss: 0.1781 - val_accuracy: 0.9604 - lr: 3.5163e-05\n",
            "Epoch 45/50\n",
            "62/62 [==============================] - 49s 783ms/step - loss: 0.0492 - accuracy: 0.9899 - val_loss: 0.1800 - val_accuracy: 0.9625 - lr: 3.5163e-05\n",
            "Epoch 46/50\n",
            "62/62 [==============================] - 54s 873ms/step - loss: 0.0465 - accuracy: 0.9924 - val_loss: 0.1785 - val_accuracy: 0.9646 - lr: 3.5163e-05\n",
            "Epoch 47/50\n",
            "62/62 [==============================] - 59s 952ms/step - loss: 0.0595 - accuracy: 0.9829 - val_loss: 0.1764 - val_accuracy: 0.9646 - lr: 1.7582e-05\n",
            "Epoch 48/50\n",
            "62/62 [==============================] - 58s 934ms/step - loss: 0.0577 - accuracy: 0.9874 - val_loss: 0.1759 - val_accuracy: 0.9604 - lr: 1.7582e-05\n",
            "Epoch 49/50\n",
            "62/62 [==============================] - 46s 746ms/step - loss: 0.0561 - accuracy: 0.9864 - val_loss: 0.1770 - val_accuracy: 0.9604 - lr: 1.7582e-05\n",
            "Epoch 50/50\n",
            "62/62 [==============================] - 46s 742ms/step - loss: 0.0572 - accuracy: 0.9808 - val_loss: 0.1626 - val_accuracy: 0.9625 - lr: 1.7582e-05\n"
          ]
        }
      ],
      "source": [
        "# Split data\n",
        "X_train, X_val, y_train, y_val = train_test_split(data, labels, test_size=0.2, random_state=42)\n",
        "\n",
        "# Improved Data Generator\n",
        "class OnTheFlyDataGenerator(tf.keras.utils.Sequence):\n",
        "    def __init__(self, file_paths, labels, batch_size, img_size, shuffle=True, augment=False, is_lstm=False):\n",
        "        self.file_paths = file_paths\n",
        "        self.labels = labels\n",
        "        self.batch_size = batch_size\n",
        "        self.img_size = img_size\n",
        "        self.shuffle = shuffle\n",
        "        self.augment = augment\n",
        "        self.is_lstm = is_lstm\n",
        "        self.indices = np.arange(len(self.file_paths))\n",
        "        self.on_epoch_end()\n",
        "\n",
        "    def __len__(self):\n",
        "        # Number of batches per epoch\n",
        "        return int(np.floor(len(self.file_paths) / self.batch_size))\n",
        "\n",
        "    def __getitem__(self, index):\n",
        "        # Get batch indices\n",
        "        batch_indices = self.indices[index * self.batch_size:(index + 1) * self.batch_size]\n",
        "        batch_file_paths = [self.file_paths[i] for i in batch_indices]\n",
        "        batch_labels = [self.labels[i] for i in batch_indices]\n",
        "\n",
        "        X, y = self.__data_generation(batch_file_paths, batch_labels)\n",
        "        return X, y\n",
        "\n",
        "    def on_epoch_end(self):\n",
        "        # Shuffle indices at the end of each epoch\n",
        "        if self.shuffle:\n",
        "            np.random.shuffle(self.indices)\n",
        "\n",
        "    def __data_generation(self, batch_file_paths, batch_labels):\n",
        "        # Create empty arrays for data and labels\n",
        "        X = np.empty((len(batch_file_paths), *self.img_size, 1), dtype=np.float32)\n",
        "        y = np.empty((len(batch_file_paths),), dtype=int)\n",
        "\n",
        "        for i, file_path in enumerate(batch_file_paths):\n",
        "            # Load data from file\n",
        "            D_dB = np.load(file_path)\n",
        "            D_dB = D_dB[..., np.newaxis]  # Add channel dimension\n",
        "\n",
        "            # Resizing\n",
        "            # Resizing\n",
        "            zoom_factors = [self.img_size[0] / D_dB.shape[0], self.img_size[1] / D_dB.shape[1], 1]\n",
        "            D_dB = zoom(D_dB, zoom_factors, order=3)  # Cubic interpolation\n",
        "\n",
        "            # Augmentation\n",
        "            if self.augment:\n",
        "                if np.random.rand() > 0.5:\n",
        "                    D_dB = np.flip(D_dB, axis=1)  # Flip left-right\n",
        "                if np.random.rand() > 0.5:\n",
        "                    D_dB = np.flip(D_dB, axis=0)  # Flip up-down\n",
        "                if np.random.rand() > 0.5:\n",
        "                    D_dB = D_dB + np.random.uniform(-0.2, 0.2, size=D_dB.shape)  # Random brightness\n",
        "\n",
        "            X[i,] = D_dB\n",
        "            y[i] = batch_labels[i]\n",
        "\n",
        "        if self.is_lstm:\n",
        "            # Reshape to (batch_size, time_steps, features) for LSTM\n",
        "            X = X.reshape(len(batch_file_paths), self.img_size[1], self.img_size[0])\n",
        "\n",
        "        return X, y\n",
        "\n",
        "train_generator = OnTheFlyDataGenerator(X_train, y_train, BATCH_SIZE, IMG_SIZE, shuffle=True, augment=True)\n",
        "val_generator = OnTheFlyDataGenerator(X_val, y_val, BATCH_SIZE, IMG_SIZE, shuffle=False, augment=False)\n",
        "\n",
        "# l2 regularization\n",
        "l2_regularizer = tf.keras.regularizers.l2(0.001)\n",
        "\n",
        "    # Third Conv Block\n",
        "    model.add(Conv2D(hp.Int('filters_3', min_value=128, max_value=512, step=128), (3, 3), activation='relu', kernel_regularizer=l2_regularizer))\n",
        "    model.add(BatchNormalization())\n",
        "    model.add(MaxPooling2D((2, 2)))\n",
        "    model.add(Dropout(hp.Float('dropout_3', min_value=0.2, max_value=0.5, step=0.1)))\n",
        "\n",
        "optimizer = Adam(learning_rate=1e-4)\n",
        "model.compile(optimizer=optimizer, loss='binary_crossentropy', metrics=['accuracy'])\n",
        "log_dir = \"logs/fit/\" + datetime.datetime.now().strftime(\"%Y%m%d-%H%M%S\")\n",
        "tensorboard_callback = TensorBoard(log_dir=log_dir, histogram_freq=1, profile_batch='500,520')\n",
        "checkpoint_callback = ModelCheckpoint('cry_detection_model.keras', monitor='val_loss', save_best_only=True, mode='min')\n",
        "lr_callback = ReduceLROnPlateau(monitor='val_loss', factor=0.5, patience=5, min_lr=1e-6)\n",
        "early_stopping_callback = EarlyStopping(monitor='val_loss', patience=10, restore_best_weights=True)\n",
        "class_weights = {0: 1., 1: 1.}\n",
        "\n",
        "history = model.fit(\n",
        "    train_generator,\n",
        "    epochs=EPOCHS,\n",
        "    validation_data=val_generator,\n",
        "    class_weight=class_weights,\n",
        "    callbacks=[tensorboard_callback, checkpoint_callback, lr_callback, early_stopping_callback]\n",
        ")\n"
      ]
    },
    {
      "cell_type": "code",
      "execution_count": 6,
      "metadata": {
        "colab": {
          "base_uri": "https://localhost:8080/"
        },
        "id": "gZHWYittJXK5",
        "outputId": "1119a1d1-078e-4e86-b287-7c663cd424b9"
      },
      "outputs": [
        {
          "name": "stdout",
          "output_type": "stream",
          "text": [
            "15/15 [==============================] - 11s 635ms/step\n",
            "Accuracy for cnn: 0.9625\n",
            "F1 Score for cnn: 0.9660377358490566\n",
            "cnn model saved as cnn_cry_detection_model.keras\n"
          ]
        }
      ],
      "source": [
        "def evaluate_and_save_model(model, model_name, val_generator, is_lstm=False):\n",
        "    # Make predictions\n",
        "    y_pred = model.predict(val_generator)\n",
        "    y_pred = (y_pred > 0.5).astype(int)\n",
        "\n",
        "    # Get true labels from the generator\n",
        "    y_true = []\n",
        "    for _, batch_labels in val_generator:\n",
        "        y_true.extend(batch_labels)\n",
        "    \n",
        "    # Convert to numpy array\n",
        "    y_true = np.array(y_true)\n",
        "\n",
        "    # Calculate accuracy and F1 score\n",
        "    acc = accuracy_score(y_true, y_pred)\n",
        "    f1 = f1_score(y_true, y_pred)\n",
        "\n",
        "    # Print the metrics\n",
        "    print(f'Accuracy for {model_name}: {acc}')\n",
        "    print(f'F1 Score for {model_name}: {f1}')\n",
        "\n",
        "    # Save the model\n",
        "    model.save(f'{model_name}_cry_detection_model.keras')\n",
        "    print(f'{model_name} model saved as {model_name}_cry_detection_model.keras')\n",
        "\n",
        "\n",
        "# Model selection, training, and evaluation\n",
        "if MODEL == 'cnn':\n",
        "    # Evaluate and save the CNN model\n",
        "    evaluate_and_save_model(model, 'cnn', val_generator, is_lstm=False)\n",
        "\n",
        "elif MODEL == 'lstm':    \n",
        "    # Evaluate and save the LSTM model\n",
        "    evaluate_and_save_model(model, 'lstm', val_generator, is_lstm=True)\n"
      ]
    },
    {
      "cell_type": "code",
      "execution_count": 7,
      "metadata": {
        "colab": {
          "base_uri": "https://localhost:8080/"
        },
        "id": "qnk1eayLJXK6",
        "outputId": "cf1a0694-a7d7-45bc-9ef4-1eabffe3a87f"
      },
      "outputs": [
        {
          "name": "stdout",
          "output_type": "stream",
          "text": [
            "INFO:tensorflow:Assets written to: /tmp/tmptap_gjwt/assets\n"
          ]
        },
        {
          "name": "stderr",
          "output_type": "stream",
          "text": [
            "INFO:tensorflow:Assets written to: /tmp/tmptap_gjwt/assets\n",
            "2024-10-22 14:57:31.755111: W tensorflow/compiler/mlir/lite/python/tf_tfl_flatbuffer_helpers.cc:364] Ignored output_format.\n",
            "2024-10-22 14:57:31.756839: W tensorflow/compiler/mlir/lite/python/tf_tfl_flatbuffer_helpers.cc:367] Ignored drop_control_dependency.\n",
            "2024-10-22 14:57:31.785148: I tensorflow/cc/saved_model/reader.cc:45] Reading SavedModel from: /tmp/tmptap_gjwt\n",
            "2024-10-22 14:57:31.789728: I tensorflow/cc/saved_model/reader.cc:91] Reading meta graph with tags { serve }\n",
            "2024-10-22 14:57:31.789777: I tensorflow/cc/saved_model/reader.cc:132] Reading SavedModel debug info (if present) from: /tmp/tmptap_gjwt\n",
            "2024-10-22 14:57:31.821724: I tensorflow/compiler/mlir/mlir_graph_optimization_pass.cc:375] MLIR V1 optimization pass is not enabled\n",
            "2024-10-22 14:57:31.828141: I tensorflow/cc/saved_model/loader.cc:231] Restoring SavedModel bundle.\n",
            "2024-10-22 14:57:32.216720: I tensorflow/cc/saved_model/loader.cc:215] Running initialization op on SavedModel bundle at path: /tmp/tmptap_gjwt\n",
            "2024-10-22 14:57:32.251884: I tensorflow/cc/saved_model/loader.cc:314] SavedModel load for tags { serve }; Status: success: OK. Took 467066 microseconds.\n",
            "2024-10-22 14:57:32.481442: I tensorflow/compiler/mlir/tensorflow/utils/dump_mlir_util.cc:255] disabling MLIR crash reproducer, set env var `MLIR_CRASH_REPRODUCER_DIRECTORY` to enable.\n"
          ]
        },
        {
          "name": "stdout",
          "output_type": "stream",
          "text": [
            "INFO:tensorflow:Assets written to: /tmp/tmpdxelk7pz/assets\n"
          ]
        },
        {
          "name": "stderr",
          "output_type": "stream",
          "text": [
            "INFO:tensorflow:Assets written to: /tmp/tmpdxelk7pz/assets\n"
          ]
        },
        {
          "name": "stdout",
          "output_type": "stream",
          "text": [
            "TFLite conversion successful!\n"
          ]
        },
        {
          "name": "stderr",
          "output_type": "stream",
          "text": [
            "2024-10-22 14:57:37.433301: W tensorflow/compiler/mlir/lite/python/tf_tfl_flatbuffer_helpers.cc:364] Ignored output_format.\n",
            "2024-10-22 14:57:37.433375: W tensorflow/compiler/mlir/lite/python/tf_tfl_flatbuffer_helpers.cc:367] Ignored drop_control_dependency.\n",
            "2024-10-22 14:57:37.433621: I tensorflow/cc/saved_model/reader.cc:45] Reading SavedModel from: /tmp/tmpdxelk7pz\n",
            "2024-10-22 14:57:37.437253: I tensorflow/cc/saved_model/reader.cc:91] Reading meta graph with tags { serve }\n",
            "2024-10-22 14:57:37.437275: I tensorflow/cc/saved_model/reader.cc:132] Reading SavedModel debug info (if present) from: /tmp/tmpdxelk7pz\n",
            "2024-10-22 14:57:37.448634: I tensorflow/cc/saved_model/loader.cc:231] Restoring SavedModel bundle.\n",
            "2024-10-22 14:57:37.838487: I tensorflow/cc/saved_model/loader.cc:215] Running initialization op on SavedModel bundle at path: /tmp/tmpdxelk7pz\n",
            "2024-10-22 14:57:37.868745: I tensorflow/cc/saved_model/loader.cc:314] SavedModel load for tags { serve }; Status: success: OK. Took 435125 microseconds.\n"
          ]
        }
      ],
      "source": [
        "import pathlib\n",
        "\n",
        "# Create directory for TFLite models\n",
        "tflite_models_dir = pathlib.Path(\"tflite_models\")\n",
        "tflite_models_dir.mkdir(exist_ok=True, parents=True)\n",
        "\n",
        "# Convert to TFLite\n",
        "converter = tf.lite.TFLiteConverter.from_keras_model(model)\n",
        "\n",
        "# Allow Select TF Ops for both CNN and LSTM models\n",
        "converter.target_spec.supported_ops = [tf.lite.OpsSet.TFLITE_BUILTINS, tf.lite.OpsSet.SELECT_TF_OPS]\n",
        "\n",
        "# Disable experimental lowering of tensor list ops\n",
        "converter._experimental_lower_tensor_list_ops = False\n",
        "\n",
        "# Convert the model\n",
        "tflite_model = converter.convert()\n",
        "\n",
        "# Save the model\n",
        "tflite_model_file = tflite_models_dir / \"cry_detection_model.tflite\"\n",
        "tflite_model_file.write_bytes(tflite_model)\n",
        "\n",
        "# Apply optimizations and convert again\n",
        "converter.optimizations = [tf.lite.Optimize.DEFAULT]\n",
        "\n",
        "tflite_fp16_model = converter.convert()\n",
        "tflite_model_fp16_file = tflite_models_dir / \"cry_detection_model_quant.tflite\"\n",
        "tflite_model_fp16_file.write_bytes(tflite_fp16_model)\n",
        "\n",
        "print(\"TFLite conversion successful!\")\n",
        "\n"
      ]
    },
    {
      "cell_type": "code",
      "execution_count": 8,
      "metadata": {
        "colab": {
          "base_uri": "https://localhost:8080/"
        },
        "id": "Tvxu0xjOVKmO",
        "outputId": "19c73f97-5650-430b-afe7-f7378a69180c"
      },
      "outputs": [],
      "source": [
        "# Initialize the TFLite interpreter\n",
        "interpreter = tf.lite.Interpreter(model_path=\"tflite_models/cry_detection_model_quant.tflite\")\n",
        "interpreter.allocate_tensors()\n",
        "\n",
        "# Get input and output tensors\n",
        "input_details = interpreter.get_input_details()\n",
        "output_details = interpreter.get_output_details()\n",
        "\n",
        "def preprocess_audio(file_path, img_size):\n",
        "    y, sr = librosa.load(file_path, sr=None)\n",
        "    y = librosa.util.normalize(y)\n",
        "    D = librosa.stft(y, n_fft=2048, hop_length=512)\n",
        "    D_dB = librosa.amplitude_to_db(np.abs(D), ref=np.max)\n",
        "\n",
        "    # Calculate zoom factors for resizing\n",
        "    zoom_factors = [img_size[0] / D_dB.shape[0], img_size[1] / D_dB.shape[1]]\n",
        "    D_dB_resized = zoom(D_dB, zoom_factors, order=3)  # Cubic interpolation\n",
        "\n",
        "    # Add channel dimension to match the original function's output\n",
        "    if not is_lstm:\n",
        "        D_dB_resized = D_dB_resized[..., np.newaxis]\n",
        "\n",
        "    return D_dB_resized\n",
        "\n",
        "def predict(file_path, img_size=IMG_SIZE):\n",
        "    input_data = preprocess_audio(file_path, img_size)\n",
        "    input_data = np.expand_dims(input_data, axis=0).astype(np.float32)\n",
        "\n",
        "    # Set the tensor to point to the input data to be inferred\n",
        "    interpreter.set_tensor(input_details[0]['index'], input_data)\n",
        "\n",
        "    # Run inference\n",
        "    interpreter.invoke()\n",
        "\n",
        "    output_data = interpreter.get_tensor(output_details[0]['index'])\n",
        "\n",
        "    return output_data\n",
        "\n",
        "def process_folder(folder_path, img_size=IMG_SIZE):\n",
        "    correct_predictions = 0\n",
        "    total_files = 0\n",
        "    results = []\n",
        "\n",
        "    for file_name in os.listdir(folder_path):\n",
        "        if file_name.endswith('.wav'):\n",
        "            file_path = os.path.join(folder_path, file_name)\n",
        "            prediction = predict(file_path, img_size, is_lstm)\n",
        "            prediction_label = 'Cry' if prediction > 0.5 else 'Not Cry'\n",
        "            results.append((file_name, prediction_label))\n",
        "            ground_truth = 'Cry' if '_cry.wav' in file_name else 'Not Cry'\n",
        "\n",
        "            if prediction_label == ground_truth:\n",
        "                correct_predictions += 1\n",
        "\n",
        "            total_files += 1\n",
        "\n",
        "    accuracy = (correct_predictions / total_files) * 100 if total_files > 0 else 0\n",
        "\n",
        "    return results, accuracy\n",
        "\n",
        "folder_path = '{0}/Test'.format(AUDIO_PATH)\n",
        "predictions, accuracy = process_folder(folder_path)\n",
        "\n",
        "for file_name, prediction_label in predictions:\n",
        "    print(f\"File: {file_name}, Prediction: {prediction_label}\")\n",
        "\n",
        "print(f\"Prediction Accuracy: {accuracy:.2f}%\")\n"
      ]
    },
    {
      "cell_type": "code",
      "execution_count": 12,
      "metadata": {
        "colab": {
          "base_uri": "https://localhost:8080/"
        },
        "id": "RzvX0_TlVKmO",
        "outputId": "d3a3e1bb-c1be-4614-9a6b-09875e712193"
      },
      "outputs": [],
      "source": [
        "lib = ctypes.cdll.LoadLibrary('{0}/libtensorflowlite_c.so'.format(AUDIO_PATH))\n",
        "\n",
        "# Define types for the C API functions\n",
        "lib.TfLiteModelCreate.restype = ctypes.POINTER(ctypes.c_void_p)\n",
        "lib.TfLiteInterpreterCreate.restype = ctypes.POINTER(ctypes.c_void_p)\n",
        "lib.TfLiteInterpreterOptionsCreate.restype = ctypes.POINTER(ctypes.c_void_p)\n",
        "lib.TfLiteInterpreterOptionsSetNumThreads.argtypes = [ctypes.POINTER(ctypes.c_void_p), ctypes.c_int]\n",
        "lib.TfLiteInterpreterOptionsDelete.argtypes = [ctypes.POINTER(ctypes.c_void_p)]\n",
        "lib.TfLiteInterpreterDelete.argtypes = [ctypes.POINTER(ctypes.c_void_p)]\n",
        "lib.TfLiteModelDelete.argtypes = [ctypes.POINTER(ctypes.c_void_p)]\n",
        "lib.TfLiteInterpreterGetInputTensor.restype = ctypes.POINTER(ctypes.c_void_p)\n",
        "lib.TfLiteInterpreterGetOutputTensor.restype = ctypes.POINTER(ctypes.c_void_p)\n",
        "\n",
        "model_path = b\"tflite_models/cry_detection_model_quant.tflite\"\n",
        "with open(model_path, 'rb') as f:\n",
        "    model_data = f.read()\n",
        "\n",
        "model = lib.TfLiteModelCreate(ctypes.c_char_p(model_data), ctypes.c_size_t(len(model_data)))\n",
        "\n",
        "# Create interpreter options and set number of threads\n",
        "options = lib.TfLiteInterpreterOptionsCreate()\n",
        "lib.TfLiteInterpreterOptionsSetNumThreads(options, 2)\n",
        "\n",
        "# Create the interpreter with the custom options\n",
        "interpreter = lib.TfLiteInterpreterCreate(model, options)\n",
        "\n",
        "# Allocate tensors\n",
        "status = lib.TfLiteInterpreterAllocateTensors(interpreter)\n",
        "\n",
        "# Get input and output tensor details\n",
        "input_tensor = lib.TfLiteInterpreterGetInputTensor(interpreter, 0)\n",
        "output_tensor = lib.TfLiteInterpreterGetOutputTensor(interpreter, 0)\n",
        "\n",
        "# def preprocess_audio(file_path, img_size):\n",
        "#     y, sr = librosa.load(file_path, sr=None)\n",
        "#     y = librosa.util.normalize(y)\n",
        "#     D = librosa.stft(y, n_fft=2048, hop_length=512)\n",
        "#     D_dB = librosa.amplitude_to_db(np.abs(D), ref=np.max)\n",
        "\n",
        "#     # Rescale the spectrogram to the target img_size\n",
        "#     # zoom_factors = [img_size[0] / D_dB.shape[0], img_size[1] / D_dB.shape[1]]\n",
        "#     # D_dB_resized = zoom(D_dB, zoom_factors).astype(np.float32)\n",
        "\n",
        "#     # Resize using TensorFlow\n",
        "#     # D_dB_resized = tf.image.resize(D_dB[..., np.newaxis], img_size).numpy()\n",
        "#     # D_dB_resized = np.squeeze(D_dB_resized, axis=-1).astype(np.float32)\n",
        "\n",
        "#     # Convert the spectrogram to an image\n",
        "#     D_dB_img = Image.fromarray(D_dB)\n",
        "\n",
        "#     # Resize the image using PIL with LANCZOS resampling\n",
        "#     D_dB_resized = D_dB_img.resize(img_size, Image.Resampling.LANCZOS)\n",
        "\n",
        "#     # Convert back to NumPy array\n",
        "#     D_dB_resized = np.array(D_dB_resized).astype(np.float32)\n",
        "\n",
        "#     return D_dB_resized\n",
        "\n",
        "def preprocess_audio(file_path, img_size):\n",
        "    y, sr = librosa.load(file_path, sr=None)\n",
        "    y = librosa.util.normalize(y)\n",
        "    D = librosa.stft(y, n_fft=2048, hop_length=512)\n",
        "    D_dB = librosa.amplitude_to_db(np.abs(D), ref=np.max)\n",
        "\n",
        "    # Calculate zoom factors for resizing\n",
        "    zoom_factors = [img_size[0] / D_dB.shape[0], img_size[1] / D_dB.shape[1]]\n",
        "    D_dB_resized = zoom(D_dB, zoom_factors, order=3)  # Cubic interpolation\n",
        "\n",
        "    # Add channel dimension for CNN, keep 3D shape for LSTM\n",
        "    if not is_lstm:\n",
        "        D_dB_resized = D_dB_resized[..., np.newaxis]\n",
        "\n",
        "    return D_dB_resized\n",
        "\n",
        "def predict(file_path, img_size=(64, 64)):\n",
        "    input_data = preprocess_audio(file_path, img_size)\n",
        "    input_data = np.expand_dims(input_data, axis=0).astype(np.float32)\n",
        "\n",
        "    # Set the tensor to point to the input data to be inferred\n",
        "    lib.TfLiteTensorCopyFromBuffer(input_tensor, input_data.ctypes.data_as(ctypes.POINTER(ctypes.c_float)), ctypes.c_size_t(input_data.nbytes))\n",
        "\n",
        "    # Run inference\n",
        "    lib.TfLiteInterpreterInvoke(interpreter)\n",
        "\n",
        "    # Extract output data\n",
        "    output_size = 1\n",
        "    output_size = 1\n",
        "    output_data = np.empty(output_size, dtype=np.float32)\n",
        "    lib.TfLiteTensorCopyToBuffer(output_tensor, output_data.ctypes.data_as(ctypes.POINTER(ctypes.c_float)), ctypes.c_size_t(output_data.nbytes))\n",
        "\n",
        "    return output_data\n",
        "\n",
        "def process_folder(folder_path, img_size=IMG_SIZE):\n",
        "    correct_predictions = 0\n",
        "    total_files = 0\n",
        "    results = []\n",
        "\n",
        "    # Initialize counters for F1 score calculations\n",
        "    true_positives = 0\n",
        "    false_positives = 0\n",
        "    false_negatives = 0\n",
        "\n",
        "    for file_name in os.listdir(folder_path):\n",
        "        if file_name.endswith('.wav'):\n",
        "            file_path = os.path.join(folder_path, file_name)\n",
        "            prediction = predict(file_path, img_size, is_lstm)\n",
        "            prediction_label = 'Cry' if prediction > 0.5 else 'Not Cry'\n",
        "            results.append((file_name, prediction_label))\n",
        "            ground_truth = 'Cry' if '_cry.wav' in file_name else 'Not Cry'\n",
        "\n",
        "            if prediction_label == ground_truth:\n",
        "                correct_predictions += 1\n",
        "                if prediction_label == 'Cry':\n",
        "                    true_positives += 1\n",
        "            else:\n",
        "                if prediction_label == 'Cry':\n",
        "                    false_positives += 1\n",
        "                elif prediction_label == 'Not Cry' and ground_truth == 'Cry':\n",
        "                    false_negatives += 1\n",
        "\n",
        "            total_files += 1\n",
        "\n",
        "    accuracy = (correct_predictions / total_files) * 100 if total_files > 0 else 0\n",
        "\n",
        "    # Calculate precision, recall, F1 score\n",
        "    precision = true_positives / (true_positives + false_positives) if (true_positives + false_positives) > 0 else 0\n",
        "    recall = true_positives / (true_positives + false_negatives) if (true_positives + false_negatives) > 0 else 0\n",
        "    f1_score = (2 * precision * recall) / (precision + recall) if (precision + recall) > 0 else 0\n",
        "\n",
        "folder_path = '{0}/Test'.format(AUDIO_PATH)\n",
        "predictions, accuracy = process_folder(folder_path)\n",
        "\n",
        "for file_name, prediction_label in predictions:\n",
        "    print(f\"File: {file_name}, Prediction: {prediction_label}\")\n",
        "\n",
        "print(f\"Prediction Accuracy: {accuracy:.2f}%\")\n",
        "print(f\"F1 Score: {f1_score:.2f}\")\n",
        "print(f\"False Negative Percentage: {false_negative_percentage:.2f}%\")\n",
        "\n",
        "# Clean up\n",
        "lib.TfLiteInterpreterDelete(interpreter)\n",
        "lib.TfLiteInterpreterOptionsDelete(options)\n",
        "lib.TfLiteModelDelete(model)\n",
        "\n",
        "print(\"All operations completed successfully.\")\n"
      ]
    },
    {
      "cell_type": "code",
      "execution_count": null,
      "metadata": {},
      "outputs": [],
      "source": [
        "import os\n",
        "import random\n",
        "import librosa\n",
        "import soundfile as sf\n",
        "import numpy as np\n",
        "\n",
        "def augment_data(input_folder, output_folder, ogg_files):\n",
        "    if not os.path.exists(output_folder):\n",
        "        os.makedirs(output_folder)\n",
        "\n",
        "    # Resample ogg files to 22050 Hz\n",
        "    ogg_clips = []\n",
        "    for ogg_file in ogg_files:\n",
        "        y, sr = librosa.load(ogg_file, sr=22050)\n",
        "        if len(y) < 5 * sr:\n",
        "            y = np.tile(y, int(np.ceil(5 * sr / len(y))))[:5 * sr]\n",
        "        else:\n",
        "            y = y[:5 * sr]\n",
        "        ogg_clips.append((y, os.path.basename(ogg_file).split('.')[0]))\n",
        "\n",
        "    input_files = [f for f in os.listdir(input_folder) if f.endswith('.wav')]\n",
        "    num_groups = len(ogg_files)\n",
        "    files_per_group = len(input_files) // num_groups\n",
        "\n",
        "    # Split input files into groups\n",
        "    for i, ogg_clip in enumerate(ogg_clips):\n",
        "        group_files = input_files[i * files_per_group:(i + 1) * files_per_group]\n",
        "        ogg_clip_data, ogg_clip_name = ogg_clip\n",
        "        \n",
        "        for input_file in group_files:\n",
        "            input_path = os.path.join(input_folder, input_file)\n",
        "            y, sr = librosa.load(input_path, sr=22050)\n",
        "            \n",
        "            # Randomly reduce gain of ogg clip\n",
        "            gain_reduction = random.uniform(0, -20)\n",
        "            ogg_clip_adjusted = librosa.util.normalize(ogg_clip_data) * (10 ** (gain_reduction / 20))\n",
        "            \n",
        "            # Mix the input file with the ogg clip\n",
        "            mixed_audio = y + ogg_clip_adjusted[:len(y)]\n",
        "            mixed_audio = librosa.util.normalize(mixed_audio)\n",
        "            \n",
        "            output_file = f\"{os.path.splitext(input_file)[0]}_{ogg_clip_name}_augmented.wav\"\n",
        "            output_path = os.path.join(output_folder, output_file)\n",
        "            sf.write(output_path, mixed_audio, sr)\n",
        "\n",
        "input_folder = f'{AUDIO_PATH}/cry'\n",
        "output_folder = f'{AUDIO_PATH}/cry/augmented'\n",
        "ogg_files = [f'{AUDIO_PATH}/ac.ogg', f'{AUDIO_PATH}/dishwasher.ogg', f'{AUDIO_PATH}/fan.ogg', f'{AUDIO_PATH}/refridgerator.ogg', \n",
        "             f'{AUDIO_PATH}/tv.ogg',f'{AUDIO_PATH}/vaccum_cleaner.ogg']\n",
        "\n",
        "augment_data(input_folder, output_folder, ogg_files)"
      ]
    }
  ],
  "metadata": {
    "accelerator": "GPU",
    "colab": {
      "gpuType": "T4",
      "include_colab_link": true,
      "provenance": []
    },
    "kernelspec": {
      "display_name": ".venv",
      "language": "python",
      "name": "python3"
    },
    "language_info": {
      "codemirror_mode": {
        "name": "ipython",
        "version": 3
      },
      "file_extension": ".py",
      "mimetype": "text/x-python",
      "name": "python",
      "nbconvert_exporter": "python",
      "pygments_lexer": "ipython3",
      "version": "3.8.10"
    }
  },
  "nbformat": 4,
  "nbformat_minor": 0
}
