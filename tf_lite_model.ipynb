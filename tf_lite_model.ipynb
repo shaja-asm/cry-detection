{
  "cells": [
    {
      "cell_type": "markdown",
      "metadata": {
        "id": "view-in-github",
        "colab_type": "text"
      },
      "source": [
        "<a href=\"https://colab.research.google.com/github/shaja-asm/cry-detection/blob/main/tf_lite_model.ipynb\" target=\"_parent\"><img src=\"https://colab.research.google.com/assets/colab-badge.svg\" alt=\"Open In Colab\"/></a>"
      ]
    },
    {
      "cell_type": "code",
      "execution_count": null,
      "metadata": {
        "colab": {
          "base_uri": "https://localhost:8080/"
        },
        "id": "Kgb5S3nbJXKL",
        "outputId": "3d54d4d1-9e96-4d9b-dadf-0fa031c8e54d"
      },
      "outputs": [
        {
          "output_type": "stream",
          "name": "stdout",
          "text": [
            "Num GPUs Available:  1\n"
          ]
        }
      ],
      "source": [
        "import os\n",
        "import numpy as np\n",
        "import librosa\n",
        "import librosa.display\n",
        "import matplotlib.pyplot as plt\n",
        "import tensorflow as tf\n",
        "from tensorflow.keras.preprocessing.image import ImageDataGenerator\n",
        "from tensorflow.keras.models import Sequential\n",
        "from tensorflow.keras.layers import Conv2D, MaxPooling2D, Flatten, Dense, Dropout, BatchNormalization\n",
        "from sklearn.model_selection import train_test_split\n",
        "from sklearn.metrics import accuracy_score, f1_score\n",
        "from tensorflow.keras.utils import Sequence\n",
        "import datetime\n",
        "from tensorflow.keras.callbacks import ModelCheckpoint, ReduceLROnPlateau\n",
        "\n",
        "\n",
        "gpus = tf.config.experimental.list_physical_devices('GPU')\n",
        "if gpus:\n",
        "    try:\n",
        "        for gpu in gpus:\n",
        "            tf.config.experimental.set_memory_growth(gpu, True)\n",
        "    except RuntimeError as e:\n",
        "        print(e)\n",
        "print(\"Num GPUs Available: \", len(tf.config.experimental.list_physical_devices('GPU')))"
      ]
    },
    {
      "cell_type": "code",
      "execution_count": null,
      "metadata": {
        "id": "YClY_ATkJXKP"
      },
      "outputs": [],
      "source": [
        "AUDIO_PATH = '/content/drive/MyDrive/CryCorpusFinal'\n",
        "CRY_FOLDER = os.path.join(AUDIO_PATH, 'cry')\n",
        "NOTCRY_FOLDER = os.path.join(AUDIO_PATH, 'notcry')\n",
        "IMG_SIZE = (64, 64)\n",
        "BATCH_SIZE = 32\n",
        "EPOCHS = 25"
      ]
    },
    {
      "cell_type": "code",
      "execution_count": null,
      "metadata": {
        "id": "H5QaLHaEJXKQ"
      },
      "outputs": [],
      "source": [
        "def load_audio_files(folder):\n",
        "    files = []\n",
        "    for filename in os.listdir(folder):\n",
        "        if filename.endswith('.wav'):\n",
        "            files.append(os.path.join(folder, filename))\n",
        "    return files\n",
        "\n",
        "def compute_spectrogram(y, sr, n_fft=2048, hop_length=512):\n",
        "    D = librosa.stft(y, n_fft=n_fft, hop_length=hop_length)\n",
        "    D_dB = librosa.amplitude_to_db(np.abs(D), ref=np.max)\n",
        "    return D_dB"
      ]
    },
    {
      "cell_type": "code",
      "execution_count": null,
      "metadata": {
        "id": "upjbPHe6JXKR"
      },
      "outputs": [],
      "source": [
        "def save_spectrogram_to_disk(D_dB, save_path):\n",
        "    if not os.path.exists(os.path.dirname(save_path)):\n",
        "        os.makedirs(os.path.dirname(save_path))\n",
        "    np.save(save_path, D_dB)\n",
        "\n",
        "cry_files = load_audio_files(CRY_FOLDER)\n",
        "notcry_files = load_audio_files(NOTCRY_FOLDER)\n",
        "\n",
        "data = []\n",
        "labels = []\n",
        "\n",
        "for idx, file in enumerate(cry_files):\n",
        "    y, sr = librosa.load(file, sr=None)\n",
        "    y = librosa.util.normalize(y)\n",
        "    D_dB = compute_spectrogram(y, sr)\n",
        "    save_path = os.path.join(f'{0}/spectrograms'.format(AUDIO_PATH), f'cry_{idx}.npy')\n",
        "    save_spectrogram_to_disk(D_dB, save_path)\n",
        "    data.append(save_path)\n",
        "    labels.append(1)\n",
        "\n",
        "for idx, file in enumerate(notcry_files):\n",
        "    y, sr = librosa.load(file, sr=None)\n",
        "    y = librosa.util.normalize(y)\n",
        "    D_dB = compute_spectrogram(y, sr)\n",
        "    save_path = os.path.join(f'{0}/spectrograms'.format(AUDIO_PATH), f'notcry_{idx}.npy')\n",
        "    save_spectrogram_to_disk(D_dB, save_path)\n",
        "    data.append(save_path)\n",
        "    labels.append(0)\n",
        "\n",
        "data = np.array(data)\n",
        "labels = np.array(labels)\n",
        "\n"
      ]
    },
    {
      "cell_type": "code",
      "execution_count": null,
      "metadata": {
        "colab": {
          "base_uri": "https://localhost:8080/"
        },
        "id": "kuPLsd8VJXKU",
        "outputId": "069a5f50-4a6e-4bea-c36f-72c04e5de8de"
      },
      "outputs": [
        {
          "output_type": "stream",
          "name": "stderr",
          "text": [
            "/usr/local/lib/python3.10/dist-packages/keras/src/layers/convolutional/base_conv.py:107: UserWarning: Do not pass an `input_shape`/`input_dim` argument to a layer. When using Sequential models, prefer using an `Input(shape)` object as the first layer in the model instead.\n",
            "  super().__init__(activity_regularizer=activity_regularizer, **kwargs)\n"
          ]
        },
        {
          "output_type": "stream",
          "name": "stdout",
          "text": [
            "Epoch 1/25\n"
          ]
        },
        {
          "output_type": "stream",
          "name": "stderr",
          "text": [
            "/usr/local/lib/python3.10/dist-packages/keras/src/trainers/data_adapters/py_dataset_adapter.py:121: UserWarning: Your `PyDataset` class should call `super().__init__(**kwargs)` in its constructor. `**kwargs` can include `workers`, `use_multiprocessing`, `max_queue_size`. Do not pass these arguments to `fit()`, as they will be ignored.\n",
            "  self._warn_if_super_not_called()\n"
          ]
        },
        {
          "output_type": "stream",
          "name": "stdout",
          "text": [
            "\u001b[1m51/51\u001b[0m \u001b[32m━━━━━━━━━━━━━━━━━━━━\u001b[0m\u001b[37m\u001b[0m \u001b[1m28s\u001b[0m 324ms/step - accuracy: 0.7446 - loss: 1.0191 - val_accuracy: 0.4755 - val_loss: 8.6040 - learning_rate: 0.0010\n",
            "Epoch 2/25\n",
            "\u001b[1m51/51\u001b[0m \u001b[32m━━━━━━━━━━━━━━━━━━━━\u001b[0m\u001b[37m\u001b[0m \u001b[1m10s\u001b[0m 170ms/step - accuracy: 0.8872 - loss: 0.2529 - val_accuracy: 0.4755 - val_loss: 3.4849 - learning_rate: 0.0010\n",
            "Epoch 3/25\n",
            "\u001b[1m51/51\u001b[0m \u001b[32m━━━━━━━━━━━━━━━━━━━━\u001b[0m\u001b[37m\u001b[0m \u001b[1m9s\u001b[0m 149ms/step - accuracy: 0.9202 - loss: 0.2140 - val_accuracy: 0.4755 - val_loss: 2.5243 - learning_rate: 0.0010\n",
            "Epoch 4/25\n",
            "\u001b[1m51/51\u001b[0m \u001b[32m━━━━━━━━━━━━━━━━━━━━\u001b[0m\u001b[37m\u001b[0m \u001b[1m11s\u001b[0m 157ms/step - accuracy: 0.9142 - loss: 0.2120 - val_accuracy: 0.6348 - val_loss: 0.9794 - learning_rate: 0.0010\n",
            "Epoch 5/25\n",
            "\u001b[1m51/51\u001b[0m \u001b[32m━━━━━━━━━━━━━━━━━━━━\u001b[0m\u001b[37m\u001b[0m \u001b[1m10s\u001b[0m 165ms/step - accuracy: 0.9235 - loss: 0.2053 - val_accuracy: 0.6225 - val_loss: 2.9570 - learning_rate: 0.0010\n",
            "Epoch 6/25\n",
            "\u001b[1m51/51\u001b[0m \u001b[32m━━━━━━━━━━━━━━━━━━━━\u001b[0m\u001b[37m\u001b[0m \u001b[1m9s\u001b[0m 157ms/step - accuracy: 0.9337 - loss: 0.1712 - val_accuracy: 0.7941 - val_loss: 0.8569 - learning_rate: 0.0010\n",
            "Epoch 7/25\n",
            "\u001b[1m51/51\u001b[0m \u001b[32m━━━━━━━━━━━━━━━━━━━━\u001b[0m\u001b[37m\u001b[0m \u001b[1m10s\u001b[0m 149ms/step - accuracy: 0.9207 - loss: 0.1971 - val_accuracy: 0.7426 - val_loss: 1.2987 - learning_rate: 0.0010\n",
            "Epoch 8/25\n",
            "\u001b[1m51/51\u001b[0m \u001b[32m━━━━━━━━━━━━━━━━━━━━\u001b[0m\u001b[37m\u001b[0m \u001b[1m9s\u001b[0m 166ms/step - accuracy: 0.9199 - loss: 0.1819 - val_accuracy: 0.7819 - val_loss: 1.4996 - learning_rate: 0.0010\n",
            "Epoch 9/25\n",
            "\u001b[1m51/51\u001b[0m \u001b[32m━━━━━━━━━━━━━━━━━━━━\u001b[0m\u001b[37m\u001b[0m \u001b[1m9s\u001b[0m 167ms/step - accuracy: 0.9217 - loss: 0.1759 - val_accuracy: 0.7745 - val_loss: 1.7829 - learning_rate: 0.0010\n",
            "Epoch 10/25\n",
            "\u001b[1m51/51\u001b[0m \u001b[32m━━━━━━━━━━━━━━━━━━━━\u001b[0m\u001b[37m\u001b[0m \u001b[1m9s\u001b[0m 153ms/step - accuracy: 0.9293 - loss: 0.1936 - val_accuracy: 0.8235 - val_loss: 0.5216 - learning_rate: 0.0010\n",
            "Epoch 11/25\n",
            "\u001b[1m51/51\u001b[0m \u001b[32m━━━━━━━━━━━━━━━━━━━━\u001b[0m\u001b[37m\u001b[0m \u001b[1m11s\u001b[0m 182ms/step - accuracy: 0.9411 - loss: 0.1296 - val_accuracy: 0.8750 - val_loss: 0.4115 - learning_rate: 0.0010\n",
            "Epoch 12/25\n",
            "\u001b[1m51/51\u001b[0m \u001b[32m━━━━━━━━━━━━━━━━━━━━\u001b[0m\u001b[37m\u001b[0m \u001b[1m10s\u001b[0m 168ms/step - accuracy: 0.9473 - loss: 0.1529 - val_accuracy: 0.9314 - val_loss: 0.1883 - learning_rate: 0.0010\n",
            "Epoch 13/25\n",
            "\u001b[1m51/51\u001b[0m \u001b[32m━━━━━━━━━━━━━━━━━━━━\u001b[0m\u001b[37m\u001b[0m \u001b[1m10s\u001b[0m 158ms/step - accuracy: 0.9342 - loss: 0.1656 - val_accuracy: 0.8775 - val_loss: 0.5844 - learning_rate: 0.0010\n",
            "Epoch 14/25\n",
            "\u001b[1m51/51\u001b[0m \u001b[32m━━━━━━━━━━━━━━━━━━━━\u001b[0m\u001b[37m\u001b[0m \u001b[1m10s\u001b[0m 148ms/step - accuracy: 0.9576 - loss: 0.1288 - val_accuracy: 0.9020 - val_loss: 0.2341 - learning_rate: 0.0010\n",
            "Epoch 15/25\n",
            "\u001b[1m51/51\u001b[0m \u001b[32m━━━━━━━━━━━━━━━━━━━━\u001b[0m\u001b[37m\u001b[0m \u001b[1m11s\u001b[0m 163ms/step - accuracy: 0.9510 - loss: 0.1421 - val_accuracy: 0.8701 - val_loss: 0.5238 - learning_rate: 0.0010\n",
            "Epoch 16/25\n",
            "\u001b[1m51/51\u001b[0m \u001b[32m━━━━━━━━━━━━━━━━━━━━\u001b[0m\u001b[37m\u001b[0m \u001b[1m10s\u001b[0m 166ms/step - accuracy: 0.9512 - loss: 0.1209 - val_accuracy: 0.7010 - val_loss: 1.5631 - learning_rate: 0.0010\n",
            "Epoch 17/25\n",
            "\u001b[1m51/51\u001b[0m \u001b[32m━━━━━━━━━━━━━━━━━━━━\u001b[0m\u001b[37m\u001b[0m \u001b[1m9s\u001b[0m 150ms/step - accuracy: 0.9294 - loss: 0.1812 - val_accuracy: 0.4779 - val_loss: 11.4490 - learning_rate: 0.0010\n",
            "Epoch 18/25\n",
            "\u001b[1m51/51\u001b[0m \u001b[32m━━━━━━━━━━━━━━━━━━━━\u001b[0m\u001b[37m\u001b[0m \u001b[1m11s\u001b[0m 163ms/step - accuracy: 0.9516 - loss: 0.1129 - val_accuracy: 0.5784 - val_loss: 3.5320 - learning_rate: 5.0000e-04\n",
            "Epoch 19/25\n",
            "\u001b[1m51/51\u001b[0m \u001b[32m━━━━━━━━━━━━━━━━━━━━\u001b[0m\u001b[37m\u001b[0m \u001b[1m9s\u001b[0m 166ms/step - accuracy: 0.9619 - loss: 0.1161 - val_accuracy: 0.8088 - val_loss: 0.5541 - learning_rate: 5.0000e-04\n",
            "Epoch 20/25\n",
            "\u001b[1m51/51\u001b[0m \u001b[32m━━━━━━━━━━━━━━━━━━━━\u001b[0m\u001b[37m\u001b[0m \u001b[1m9s\u001b[0m 166ms/step - accuracy: 0.9468 - loss: 0.1195 - val_accuracy: 0.9289 - val_loss: 0.2318 - learning_rate: 5.0000e-04\n",
            "Epoch 21/25\n",
            "\u001b[1m51/51\u001b[0m \u001b[32m━━━━━━━━━━━━━━━━━━━━\u001b[0m\u001b[37m\u001b[0m \u001b[1m9s\u001b[0m 149ms/step - accuracy: 0.9470 - loss: 0.1360 - val_accuracy: 0.9436 - val_loss: 0.1891 - learning_rate: 5.0000e-04\n",
            "Epoch 22/25\n",
            "\u001b[1m51/51\u001b[0m \u001b[32m━━━━━━━━━━━━━━━━━━━━\u001b[0m\u001b[37m\u001b[0m \u001b[1m11s\u001b[0m 164ms/step - accuracy: 0.9510 - loss: 0.1313 - val_accuracy: 0.9216 - val_loss: 0.2414 - learning_rate: 5.0000e-04\n",
            "Epoch 23/25\n",
            "\u001b[1m51/51\u001b[0m \u001b[32m━━━━━━━━━━━━━━━━━━━━\u001b[0m\u001b[37m\u001b[0m \u001b[1m9s\u001b[0m 166ms/step - accuracy: 0.9593 - loss: 0.1101 - val_accuracy: 0.9216 - val_loss: 0.2894 - learning_rate: 2.5000e-04\n",
            "Epoch 24/25\n",
            "\u001b[1m51/51\u001b[0m \u001b[32m━━━━━━━━━━━━━━━━━━━━\u001b[0m\u001b[37m\u001b[0m \u001b[1m9s\u001b[0m 151ms/step - accuracy: 0.9586 - loss: 0.1023 - val_accuracy: 0.9020 - val_loss: 0.3879 - learning_rate: 2.5000e-04\n",
            "Epoch 25/25\n",
            "\u001b[1m51/51\u001b[0m \u001b[32m━━━━━━━━━━━━━━━━━━━━\u001b[0m\u001b[37m\u001b[0m \u001b[1m10s\u001b[0m 147ms/step - accuracy: 0.9609 - loss: 0.1011 - val_accuracy: 0.8211 - val_loss: 0.8325 - learning_rate: 2.5000e-04\n",
            "Training complete. Best model saved as 'cry_detection_best_model.keras'\n"
          ]
        }
      ],
      "source": [
        "# Split the datasets\n",
        "X_train, X_val, y_train, y_val = train_test_split(data, labels, test_size=0.2, random_state=42)\n",
        "\n",
        "class OnTheFlyDataGenerator(tf.keras.utils.Sequence):\n",
        "    def __init__(self, file_paths, labels, batch_size, img_size, shuffle=True, augment=False):\n",
        "        self.file_paths = file_paths\n",
        "        self.labels = labels\n",
        "        self.batch_size = batch_size\n",
        "        self.img_size = img_size\n",
        "        self.shuffle = shuffle\n",
        "        self.augment = augment\n",
        "        self.indices = np.arange(len(self.file_paths))\n",
        "        self.on_epoch_end()\n",
        "\n",
        "    def __len__(self):\n",
        "        return int(np.ceil(len(self.file_paths) / self.batch_size))\n",
        "\n",
        "    def __getitem__(self, index):\n",
        "        batch_indices = self.indices[index * self.batch_size:(index + 1) * self.batch_size]\n",
        "        batch_file_paths = [self.file_paths[i] for i in batch_indices]\n",
        "        batch_labels = [self.labels[i] for i in batch_indices]\n",
        "\n",
        "        X, y = self.__data_generation(batch_file_paths, batch_labels)\n",
        "        return X, y\n",
        "\n",
        "    def on_epoch_end(self):\n",
        "        if self.shuffle:\n",
        "            np.random.shuffle(self.indices)\n",
        "\n",
        "    def __data_generation(self, batch_file_paths, batch_labels):\n",
        "        X = np.empty((len(batch_file_paths), *self.img_size, 1), dtype=np.float32)\n",
        "        y = np.empty((len(batch_file_paths),), dtype=int)\n",
        "\n",
        "        for i, file_path in enumerate(batch_file_paths):\n",
        "            D_dB = np.load(file_path)\n",
        "            D_dB = D_dB[..., np.newaxis]  # Add channel dimension\n",
        "            D_dB = tf.image.resize(D_dB, self.img_size).numpy()\n",
        "            if self.augment:\n",
        "                D_dB = tf.image.random_flip_left_right(D_dB)\n",
        "                D_dB = tf.image.random_flip_up_down(D_dB)\n",
        "                D_dB = tf.image.random_brightness(D_dB, max_delta=0.2)\n",
        "            X[i,] = D_dB\n",
        "            y[i] = batch_labels[i]\n",
        "\n",
        "        return X, y\n",
        "\n",
        "# Augment training data\n",
        "train_generator = OnTheFlyDataGenerator(X_train, y_train, BATCH_SIZE, IMG_SIZE, shuffle=True, augment=True)\n",
        "val_generator = OnTheFlyDataGenerator(X_val, y_val, BATCH_SIZE, IMG_SIZE, shuffle=False, augment=False)\n",
        "\n",
        "# Define the model with batch normalization\n",
        "model = Sequential([\n",
        "        Conv2D(32, (3, 3), activation='relu', input_shape=(IMG_SIZE[0], IMG_SIZE[1], 1)),\n",
        "        BatchNormalization(),\n",
        "        MaxPooling2D((2, 2)),\n",
        "        Dropout(0.25),\n",
        "        Conv2D(64, (3, 3), activation='relu'),\n",
        "        BatchNormalization(),\n",
        "        MaxPooling2D((2, 2)),\n",
        "        Dropout(0.25),\n",
        "        Conv2D(128, (3, 3), activation='relu'),\n",
        "        BatchNormalization(),\n",
        "        MaxPooling2D((2, 2)),\n",
        "        Dropout(0.25),\n",
        "        Flatten(),\n",
        "        Dense(128, activation='relu'),\n",
        "        Dropout(0.5),\n",
        "        Dense(1, activation='sigmoid')\n",
        "    ])\n",
        "\n",
        "model.compile(optimizer='adam', loss='binary_crossentropy', metrics=['accuracy'])\n",
        "\n",
        "# Set up callbacks\n",
        "log_dir = \"logs/fit/\" + datetime.datetime.now().strftime(\"%Y%m%d-%H%M%S\")\n",
        "tensorboard_callback = tf.keras.callbacks.TensorBoard(log_dir=log_dir, histogram_freq=1, profile_batch='500,520')\n",
        "\n",
        "# Save the best model during training\n",
        "checkpoint_callback = ModelCheckpoint('cry_detection_best_model.keras', monitor='val_loss', save_best_only=True, mode='min')\n",
        "\n",
        "# Learning rate scheduler\n",
        "lr_callback = ReduceLROnPlateau(monitor='val_loss', factor=0.5, patience=5, min_lr=0.00001)\n",
        "\n",
        "# Train the model with the added callbacks\n",
        "history = model.fit(\n",
        "        train_generator,\n",
        "        epochs=EPOCHS,\n",
        "        validation_data=val_generator,\n",
        "        callbacks=[tensorboard_callback, checkpoint_callback, lr_callback]\n",
        "    )\n",
        "\n",
        "print(\"Training complete. Best model saved as 'cry_detection_best_model.keras'\")\n"
      ]
    },
    {
      "cell_type": "code",
      "execution_count": null,
      "metadata": {
        "id": "gZHWYittJXK5",
        "colab": {
          "base_uri": "https://localhost:8080/"
        },
        "outputId": "234ee77d-c9fc-4c62-e6cf-024b88c5853f"
      },
      "outputs": [
        {
          "output_type": "stream",
          "name": "stdout",
          "text": [
            "\u001b[1m13/13\u001b[0m \u001b[32m━━━━━━━━━━━━━━━━━━━━\u001b[0m\u001b[37m\u001b[0m \u001b[1m1s\u001b[0m 69ms/step\n",
            "Accuracy: 0.821078431372549\n",
            "F1 Score: 0.7682539682539683\n"
          ]
        }
      ],
      "source": [
        "y_pred = model.predict(val_generator)\n",
        "y_pred = (y_pred > 0.5).astype(int)\n",
        "acc = accuracy_score(y_val, y_pred)\n",
        "f1 = f1_score(y_val, y_pred)\n",
        "\n",
        "print(f'Accuracy: {acc}')\n",
        "print(f'F1 Score: {f1}')\n",
        "\n",
        "model.save('cry_detection_best_model.keras')"
      ]
    },
    {
      "cell_type": "code",
      "source": [
        "from google.colab import drive\n",
        "drive.mount('/content/drive')"
      ],
      "metadata": {
        "colab": {
          "base_uri": "https://localhost:8080/"
        },
        "id": "oj8oTldwkB98",
        "outputId": "eb3e79db-204e-4e11-fde8-fb12fcd81940"
      },
      "execution_count": 1,
      "outputs": [
        {
          "output_type": "stream",
          "name": "stdout",
          "text": [
            "Mounted at /content/drive\n"
          ]
        }
      ]
    },
    {
      "cell_type": "code",
      "execution_count": null,
      "metadata": {
        "id": "qnk1eayLJXK6",
        "colab": {
          "base_uri": "https://localhost:8080/"
        },
        "outputId": "57875de9-a024-4d82-f68e-bae37370559b"
      },
      "outputs": [
        {
          "output_type": "stream",
          "name": "stdout",
          "text": [
            "Saved artifact at '/tmp/tmp_k8oiezf'. The following endpoints are available:\n",
            "\n",
            "* Endpoint 'serve'\n",
            "  args_0 (POSITIONAL_ONLY): TensorSpec(shape=(None, 64, 64, 1), dtype=tf.float32, name='keras_tensor')\n",
            "Output Type:\n",
            "  TensorSpec(shape=(None, 1), dtype=tf.float32, name=None)\n",
            "Captures:\n",
            "  135675093283968: TensorSpec(shape=(), dtype=tf.resource, name=None)\n",
            "  135675093284496: TensorSpec(shape=(), dtype=tf.resource, name=None)\n",
            "  135675093284144: TensorSpec(shape=(), dtype=tf.resource, name=None)\n",
            "  135675093284672: TensorSpec(shape=(), dtype=tf.resource, name=None)\n",
            "  135675093283792: TensorSpec(shape=(), dtype=tf.resource, name=None)\n",
            "  135675093285552: TensorSpec(shape=(), dtype=tf.resource, name=None)\n",
            "  135675092518336: TensorSpec(shape=(), dtype=tf.resource, name=None)\n",
            "  135675092522384: TensorSpec(shape=(), dtype=tf.resource, name=None)\n",
            "  135675092520096: TensorSpec(shape=(), dtype=tf.resource, name=None)\n",
            "  135675092522912: TensorSpec(shape=(), dtype=tf.resource, name=None)\n",
            "  135675092517984: TensorSpec(shape=(), dtype=tf.resource, name=None)\n",
            "  135675092522032: TensorSpec(shape=(), dtype=tf.resource, name=None)\n",
            "  135675092525024: TensorSpec(shape=(), dtype=tf.resource, name=None)\n",
            "  135675092527312: TensorSpec(shape=(), dtype=tf.resource, name=None)\n",
            "  135675092519040: TensorSpec(shape=(), dtype=tf.resource, name=None)\n",
            "  135675092527840: TensorSpec(shape=(), dtype=tf.resource, name=None)\n",
            "  135675092522560: TensorSpec(shape=(), dtype=tf.resource, name=None)\n",
            "  135675092526256: TensorSpec(shape=(), dtype=tf.resource, name=None)\n",
            "  135675092528720: TensorSpec(shape=(), dtype=tf.resource, name=None)\n",
            "  135675092532240: TensorSpec(shape=(), dtype=tf.resource, name=None)\n",
            "  135675092525728: TensorSpec(shape=(), dtype=tf.resource, name=None)\n",
            "  135675092531184: TensorSpec(shape=(), dtype=tf.resource, name=None)\n",
            "Model converted to TensorFlow Lite and saved.\n"
          ]
        }
      ],
      "source": [
        "# Convert to TensorFlow Lite\n",
        "converter = tf.lite.TFLiteConverter.from_keras_model(model)\n",
        "tflite_model = converter.convert()\n",
        "\n",
        "with open('cry_detection_model.tflite', 'wb') as f:\n",
        "    f.write(tflite_model)\n",
        "\n",
        "print('Model converted to TensorFlow Lite and saved.')"
      ]
    }
  ],
  "metadata": {
    "kernelspec": {
      "display_name": "Python 3",
      "name": "python3"
    },
    "language_info": {
      "codemirror_mode": {
        "name": "ipython",
        "version": 3
      },
      "file_extension": ".py",
      "mimetype": "text/x-python",
      "name": "python",
      "nbconvert_exporter": "python",
      "pygments_lexer": "ipython3",
      "version": "3.10.12"
    },
    "colab": {
      "provenance": [],
      "gpuType": "T4",
      "include_colab_link": true
    },
    "accelerator": "GPU"
  },
  "nbformat": 4,
  "nbformat_minor": 0
}