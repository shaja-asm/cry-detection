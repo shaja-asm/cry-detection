{
 "cells": [
  {
   "cell_type": "code",
   "execution_count": 1,
   "metadata": {},
   "outputs": [
    {
     "name": "stderr",
     "output_type": "stream",
     "text": [
      "2024-08-14 16:50:53.409972: I external/local_xla/xla/tsl/cuda/cudart_stub.cc:32] Could not find cuda drivers on your machine, GPU will not be used.\n",
      "2024-08-14 16:50:53.689692: I external/local_xla/xla/tsl/cuda/cudart_stub.cc:32] Could not find cuda drivers on your machine, GPU will not be used.\n",
      "2024-08-14 16:50:53.928913: E external/local_xla/xla/stream_executor/cuda/cuda_fft.cc:485] Unable to register cuFFT factory: Attempting to register factory for plugin cuFFT when one has already been registered\n",
      "2024-08-14 16:50:54.132693: E external/local_xla/xla/stream_executor/cuda/cuda_dnn.cc:8454] Unable to register cuDNN factory: Attempting to register factory for plugin cuDNN when one has already been registered\n",
      "2024-08-14 16:50:54.193725: E external/local_xla/xla/stream_executor/cuda/cuda_blas.cc:1452] Unable to register cuBLAS factory: Attempting to register factory for plugin cuBLAS when one has already been registered\n",
      "2024-08-14 16:50:54.640153: I tensorflow/core/platform/cpu_feature_guard.cc:210] This TensorFlow binary is optimized to use available CPU instructions in performance-critical operations.\n",
      "To enable the following instructions: AVX2 FMA, in other operations, rebuild TensorFlow with the appropriate compiler flags.\n",
      "2024-08-14 16:50:56.610244: W tensorflow/compiler/tf2tensorrt/utils/py_utils.cc:38] TF-TRT Warning: Could not find TensorRT\n"
     ]
    }
   ],
   "source": [
    "import os\n",
    "import numpy as np\n",
    "import tensorflow as tf\n",
    "import librosa\n",
    "from sklearn.model_selection import train_test_split\n",
    "from sklearn.metrics import accuracy_score, f1_score\n",
    "import matplotlib.pyplot as plt\n"
   ]
  },
  {
   "cell_type": "code",
   "execution_count": 2,
   "metadata": {},
   "outputs": [
    {
     "ename": "",
     "evalue": "",
     "output_type": "error",
     "traceback": [
      "\u001b[1;31mThe Kernel crashed while executing code in the current cell or a previous cell. \n",
      "\u001b[1;31mPlease review the code in the cell(s) to identify a possible cause of the failure. \n",
      "\u001b[1;31mClick <a href='https://aka.ms/vscodeJupyterKernelCrash'>here</a> for more info. \n",
      "\u001b[1;31mView Jupyter <a href='command:jupyter.viewOutput'>log</a> for further details."
     ]
    }
   ],
   "source": [
    "AUDIO_PATH = 'CryCorpusFinal'\n",
    "CRY_FOLDER = os.path.join(AUDIO_PATH, 'cry/augmented')\n",
    "NOTCRY_FOLDER = os.path.join(AUDIO_PATH, 'notcry')\n",
    "IMG_SIZE = (64, 64)\n",
    "BATCH_SIZE = 8\n",
    "EPOCHS = 100\n"
   ]
  },
  {
   "cell_type": "code",
   "execution_count": 3,
   "metadata": {},
   "outputs": [],
   "source": [
    "def load_audio_files(folder):\n",
    "    files = []\n",
    "    for filename in os.listdir(folder):\n",
    "        if filename.endswith('.wav'):\n",
    "            files.append(os.path.join(folder, filename))\n",
    "    return files\n",
    "\n",
    "def compute_spectrogram(y, sr, n_fft=2048, hop_length=512):\n",
    "    D = librosa.stft(y, n_fft=n_fft, hop_length=hop_length)\n",
    "    D_dB = librosa.amplitude_to_db(np.abs(D), ref=np.max)\n",
    "    return D_dB\n",
    "\n",
    "cry_files = load_audio_files(CRY_FOLDER)\n",
    "notcry_files = load_audio_files(NOTCRY_FOLDER)\n",
    "\n",
    "data = []\n",
    "labels = []\n",
    "\n",
    "for file_path in cry_files:\n",
    "    y, sr = librosa.load(file_path, sr=None)\n",
    "    spectrogram = compute_spectrogram(y, sr)\n",
    "    data.append(spectrogram.flatten())  # Flatten the spectrogram to a 1D array\n",
    "    labels.append(1)\n",
    "\n",
    "for file_path in notcry_files:\n",
    "    y, sr = librosa.load(file_path, sr=None)\n",
    "    spectrogram = compute_spectrogram(y, sr)\n",
    "    data.append(spectrogram.flatten())  # Flatten the spectrogram to a 1D array\n",
    "    labels.append(0)\n",
    "\n",
    "# Convert to numpy arrays\n",
    "X_data = np.array(data, dtype=np.float32)\n",
    "y_data = np.array(labels, dtype=np.float32)\n",
    "\n",
    "X_train, X_val, y_train, y_val = train_test_split(X_data, y_data, test_size=0.2, random_state=42)\n"
   ]
  },
  {
   "cell_type": "code",
   "execution_count": null,
   "metadata": {},
   "outputs": [],
   "source": [
    "class LogisticRegression(tf.Module):\n",
    "    def __init__(self):\n",
    "        self.w = tf.Variable(tf.random.uniform([X_train.shape[1], 1]), name='weights')\n",
    "        self.b = tf.Variable(tf.zeros([1]), name='bias')\n",
    "    \n",
    "    def __call__(self, x):\n",
    "        return tf.sigmoid(tf.matmul(x, self.w) + self.b)\n",
    "\n",
    "def loss_fn(model, x, y):\n",
    "    y_ = model(x)\n",
    "    return tf.reduce_mean(tf.losses.binary_crossentropy(y, y_))\n",
    "\n",
    "def train(model, X, y, learning_rate):\n",
    "    with tf.GradientTape() as tape:\n",
    "        loss = loss_fn(model, X, y)\n",
    "    gradients = tape.gradient(loss, [model.w, model.b])\n",
    "    optimizer = tf.optimizers.SGD(learning_rate)\n",
    "    optimizer.apply_gradients(zip(gradients, [model.w, model.b]))\n",
    "    return loss\n"
   ]
  },
  {
   "cell_type": "code",
   "execution_count": null,
   "metadata": {},
   "outputs": [],
   "source": [
    "# Instantiate the model\n",
    "model = LogisticRegression()\n",
    "\n",
    "# Training loop\n",
    "num_epochs = 100\n",
    "learning_rate = 0.01\n",
    "losses = []\n",
    "\n",
    "for epoch in range(num_epochs):\n",
    "    loss = train(model, X_train, y_train, learning_rate)\n",
    "    losses.append(loss.numpy())\n",
    "    if epoch % 10 == 0:\n",
    "        print(f'Epoch {epoch}: Loss: {loss.numpy()}')\n"
   ]
  },
  {
   "cell_type": "code",
   "execution_count": null,
   "metadata": {},
   "outputs": [],
   "source": [
    "plt.plot(range(num_epochs), losses)\n",
    "plt.xlabel('Epoch')\n",
    "plt.ylabel('Loss')\n",
    "plt.title('Loss over Time')\n",
    "plt.show()\n"
   ]
  },
  {
   "cell_type": "code",
   "execution_count": null,
   "metadata": {},
   "outputs": [],
   "source": [
    "# Predict on the validation set\n",
    "y_pred_val = model(X_val)\n",
    "y_pred_val = tf.round(y_pred_val)  # Round predictions to 0 or 1\n",
    "\n",
    "# Calculate accuracy and F1 score\n",
    "acc = accuracy_score(y_val, y_pred_val.numpy())\n",
    "f1 = f1_score(y_val, y_pred_val.numpy())\n",
    "\n",
    "print(f'Validation Accuracy: {acc}')\n",
    "print(f'Validation F1 Score: {f1}')\n"
   ]
  },
  {
   "cell_type": "code",
   "execution_count": null,
   "metadata": {},
   "outputs": [],
   "source": [
    "def plot_decision_boundary(model, X, y):\n",
    "    x_min, x_max = X[:, 0].min() - 1, X[:, 0].max() + 1\n",
    "    y_min, y_max = X[:, 1].min() - 1, X[:, 1].max() + 1\n",
    "    xx, yy = np.meshgrid(np.arange(x_min, x_max, 0.1),\n",
    "                         np.arange(y_min, y_max, 0.1))\n",
    "    grid = np.c_[xx.ravel(), yy.ravel()]\n",
    "    preds = model(grid).numpy().reshape(xx.shape)\n",
    "    plt.contourf(xx, yy, preds, alpha=0.8)\n",
    "    plt.scatter(X[:, 0], X[:, 1], c=y, edgecolors='k')\n",
    "    plt.show()\n",
    "\n",
    "# Assuming you have reduced X_val to 2D\n",
    "plot_decision_boundary(model, X_val, y_val)\n"
   ]
  }
 ],
 "metadata": {
  "kernelspec": {
   "display_name": ".venv",
   "language": "python",
   "name": "python3"
  },
  "language_info": {
   "codemirror_mode": {
    "name": "ipython",
    "version": 3
   },
   "file_extension": ".py",
   "mimetype": "text/x-python",
   "name": "python",
   "nbconvert_exporter": "python",
   "pygments_lexer": "ipython3",
   "version": "3.10.12"
  }
 },
 "nbformat": 4,
 "nbformat_minor": 2
}
